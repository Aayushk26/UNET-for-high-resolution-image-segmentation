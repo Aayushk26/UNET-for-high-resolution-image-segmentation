{
 "cells": [
  {
   "cell_type": "code",
   "execution_count": null,
   "metadata": {},
   "outputs": [],
   "source": [
    "#Here I am going to define the loss function for Semantic Image Segmentation.\n",
    "#We chave two options here, we can either use Binary Cross Entropy between the output images and #the ground truth\n",
    "#Or we can use Dice Loss\n",
    "#Foerr outputs with clear and well defined image edges, we generally use dice loss\n",
    "#Over alldice loss provides better results in image segmentation."
   ]
  },
  {
   "cell_type": "code",
   "execution_count": null,
   "metadata": {},
   "outputs": [],
   "source": [
    "import torch\n",
    "import torch.optim as optim"
   ]
  },
  {
   "cell_type": "code",
   "execution_count": null,
   "metadata": {},
   "outputs": [],
   "source": [
    "def dice_loss(pred,target):\n",
    "    smooth = 1\n",
    "    #pred = F.sigmoid(pred)\n",
    "    numerator = 2 * torch.sum(pred * target)\n",
    "    denominator = torch.sum(pred + target)\n",
    "    loss =  1 - ((numerator + smooth) / (denominator + smooth))\n",
    "    return loss"
   ]
  },
  {
   "cell_type": "code",
   "execution_count": null,
   "metadata": {},
   "outputs": [],
   "source": [
    "#Here I am going to use the RMS_prop optimizer\n",
    "#Learning_rate = 2e-4\n",
    "\n",
    "optimizer = optim.RMSprop(unet.parameters(), lr=0.0002)"
   ]
  }
 ],
 "metadata": {
  "kernelspec": {
   "display_name": "Python 3",
   "language": "python",
   "name": "python3"
  },
  "language_info": {
   "codemirror_mode": {
    "name": "ipython",
    "version": 3
   },
   "file_extension": ".py",
   "mimetype": "text/x-python",
   "name": "python",
   "nbconvert_exporter": "python",
   "pygments_lexer": "ipython3",
   "version": "3.7.6"
  }
 },
 "nbformat": 4,
 "nbformat_minor": 4
}