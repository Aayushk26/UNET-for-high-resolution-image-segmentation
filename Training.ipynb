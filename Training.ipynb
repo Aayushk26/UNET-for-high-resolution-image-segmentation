{
 "cells": [
  {
   "cell_type": "code",
   "execution_count": null,
   "metadata": {},
   "outputs": [],
   "source": [
    "import torchimport  tqdm\n",
    " port torch.nn as nn\n",
    "impt matplotlib.pyplot as plt\n",
    "from tqdm import tqdm\n",
    "import torch.nn.functional as F"
   ]
  },
  {
   "cell_type": "code",
   "execution_count": null,
   "metadata": {},
   "outputs": [],
   "source": [
    "EPOCHS = 30\n",
    "loss_list = []\n",
    "epoch_list = []\n",
    "num_training_images = 100\n",
    "\n",
    "for epoch in range(EPOCHS):\n",
    "    epoch_list.append(epoch)\n",
    "    train_loss = 0\n",
    "    for i in zip(image_loader , grayscale_loader):\n",
    "        with torch.autograd.set_detect_anomaly(True):\n",
    "            input_img = i[0].to(\"cuda\")\n",
    "            ground_truth = i[1].to(\"cuda\") \n",
    "\n",
    "            optimizer.zero_grad()\n",
    "            output = unet(input_img)\n",
    "\n",
    "            loss  = dice_loss(output , ground_truth )\n",
    "            #loss = BCELogitsLoss(output , ground_truth )\n",
    "\n",
    "\n",
    "            loss.backward()\n",
    "            optimizer.step()\n",
    "            train_loss += loss.item() * input_img.size(0)\n",
    "            print(loss)\n",
    "        \n",
    "    \n",
    "       \n",
    "    train_loss = train_loss / num_training_images\n",
    "    loss_list.append(train_loss)\n",
    "    print(epoch , train_loss)\n",
    "#Now I am going to save the wieght file to load and use it later\n",
    "torch.save(unet.state_dict() , r\"weightFile.pt\")\n",
    "plt.plot(epoch_list , loss_list)\n",
    "plt.show()"
   ]
  }
 ],
 "metadata": {
  "kernelspec": {
   "display_name": "Python 3",
   "language": "python",
   "name": "python3"
  },
  "language_info": {
   "codemirror_mode": {
    "name": "ipython",
    "version": 3
   },
   "file_extension": ".py",
   "mimetype": "text/x-python",
   "name": "python",
   "nbconvert_exporter": "python",
   "pygments_lexer": "ipython3",
   "version": "3.7.6"
  }
 },
 "nbformat": 4,
 "nbformat_minor": 4
}